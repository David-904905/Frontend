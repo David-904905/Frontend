{
 "cells": [
  {
   "cell_type": "code",
   "execution_count": 25,
   "id": "d489ab7e",
   "metadata": {},
   "outputs": [],
   "source": [
    "import memory_profiler\n",
    "import time_profiler"
   ]
  },
  {
   "cell_type": "code",
   "execution_count": 26,
   "id": "31d9d586",
   "metadata": {},
   "outputs": [],
   "source": [
    "from array import array\n",
    "from random import random\n",
    "import math"
   ]
  },
  {
   "cell_type": "code",
   "execution_count": 44,
   "id": "913a6bbd",
   "metadata": {},
   "outputs": [
    {
     "data": {
      "text/plain": [
       "[4, 1, 33, 74, 94, 55]"
      ]
     },
     "execution_count": 44,
     "metadata": {},
     "output_type": "execute_result"
    }
   ],
   "source": [
    "regular_arr = [math.ceil(random() * 100) for _ in range(10_000_000)]\n",
    "regular_arr[0:6]"
   ]
  },
  {
   "cell_type": "code",
   "execution_count": 45,
   "id": "46648352",
   "metadata": {},
   "outputs": [
    {
     "data": {
      "text/plain": [
       "array('d', [26.0, 25.0, 60.0, 95.0, 62.0, 59.0])"
      ]
     },
     "execution_count": 45,
     "metadata": {},
     "output_type": "execute_result"
    }
   ],
   "source": [
    "floats = array('d', (math.ceil(random() * 100) for _ in range(10_000_000)))\n",
    "floats[0:6]"
   ]
  },
  {
   "cell_type": "code",
   "execution_count": 46,
   "id": "f53858ae",
   "metadata": {},
   "outputs": [],
   "source": [
    "def array_write():\n",
    "    fp = open('newbinary.bin', 'wb')\n",
    "    floats.tofile(fp)\n",
    "    fp.close()"
   ]
  },
  {
   "cell_type": "code",
   "execution_count": 47,
   "id": "ebd11195",
   "metadata": {},
   "outputs": [],
   "source": [
    "def other_write():\n",
    "    with open('otherfile.bin', 'wb') as file:\n",
    "        file.write(bytearray(regular_arr))\n"
   ]
  },
  {
   "cell_type": "code",
   "execution_count": 48,
   "id": "3c8db89b",
   "metadata": {},
   "outputs": [
    {
     "name": "stdout",
     "output_type": "stream",
     "text": [
      "64.4 ms ± 5.57 ms per loop (mean ± std. dev. of 7 runs, 10 loops each)\n"
     ]
    }
   ],
   "source": [
    "%timeit array_write()"
   ]
  },
  {
   "cell_type": "code",
   "execution_count": 49,
   "id": "b0a8fb41",
   "metadata": {},
   "outputs": [
    {
     "name": "stdout",
     "output_type": "stream",
     "text": [
      "55.7 ms ± 2.22 ms per loop (mean ± std. dev. of 7 runs, 10 loops each)\n"
     ]
    }
   ],
   "source": [
    "%timeit other_write()"
   ]
  },
  {
   "cell_type": "code",
   "execution_count": null,
   "id": "0e84911d",
   "metadata": {},
   "outputs": [],
   "source": []
  },
  {
   "cell_type": "code",
   "execution_count": null,
   "id": "a1ad41ee",
   "metadata": {},
   "outputs": [],
   "source": []
  }
 ],
 "metadata": {
  "kernelspec": {
   "display_name": ".venv",
   "language": "python",
   "name": "python3"
  },
  "language_info": {
   "codemirror_mode": {
    "name": "ipython",
    "version": 3
   },
   "file_extension": ".py",
   "mimetype": "text/x-python",
   "name": "python",
   "nbconvert_exporter": "python",
   "pygments_lexer": "ipython3",
   "version": "3.12.6"
  }
 },
 "nbformat": 4,
 "nbformat_minor": 5
}
